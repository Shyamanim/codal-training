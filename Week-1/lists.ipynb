{
 "cells": [
  {
   "metadata": {},
   "cell_type": "raw",
   "source": "Insert/update operations:",
   "id": "b3e16dd02796f595"
  },
  {
   "cell_type": "code",
   "id": "initial_id",
   "metadata": {
    "collapsed": true,
    "ExecuteTime": {
     "end_time": "2025-06-09T10:43:35.297565Z",
     "start_time": "2025-06-09T10:43:35.286565Z"
    }
   },
   "source": [
    "l1 = [1,2,3]\n",
    "print(l1)\n",
    "l1.insert(2,\"apple\")\n",
    "print(l1)\n",
    "l1.insert(-2,\"banana\")\n",
    "print(l1)\n",
    "l1.insert(-1,4)\n",
    "print(l1)"
   ],
   "outputs": [
    {
     "name": "stdout",
     "output_type": "stream",
     "text": [
      "[1, 2, 3]\n",
      "[1, 2, 'apple', 3]\n",
      "[1, 2, 'banana', 'apple', 3]\n",
      "[1, 2, 'banana', 'apple', 4, 3]\n"
     ]
    }
   ],
   "execution_count": 51
  },
  {
   "metadata": {
    "ExecuteTime": {
     "end_time": "2025-06-09T10:43:37.874307Z",
     "start_time": "2025-06-09T10:43:37.855887Z"
    }
   },
   "cell_type": "code",
   "source": [
    "l1.append(5)\n",
    "print(l1)\n",
    "l1.extend([8,7,6])\n",
    "l2 = [9,8,7]\n",
    "l1.extend(l2)\n",
    "print(l1)"
   ],
   "id": "46faa2d910b6d279",
   "outputs": [
    {
     "name": "stdout",
     "output_type": "stream",
     "text": [
      "[1, 2, 'banana', 'apple', 4, 3, 5]\n",
      "[1, 2, 'banana', 'apple', 4, 3, 5, 8, 7, 6, 9, 8, 7]\n"
     ]
    }
   ],
   "execution_count": 52
  },
  {
   "metadata": {},
   "cell_type": "markdown",
   "source": "Deletion operations:",
   "id": "54025ab367a0610"
  },
  {
   "metadata": {
    "ExecuteTime": {
     "end_time": "2025-06-09T10:43:40.475047Z",
     "start_time": "2025-06-09T10:43:40.462041Z"
    }
   },
   "cell_type": "code",
   "source": [
    "l3 = l1.copy()\n",
    "print(l3)\n",
    "print(l3.pop())\n",
    "print(l3.pop(2))\n",
    "print(l3)\n",
    "l3.remove(\"apple\")\n",
    "l3.remove(7)\n",
    "print(l3)\n",
    "l1.clear()\n",
    "print(l1)"
   ],
   "id": "e1b4490ee481fa6",
   "outputs": [
    {
     "name": "stdout",
     "output_type": "stream",
     "text": [
      "[1, 2, 'banana', 'apple', 4, 3, 5, 8, 7, 6, 9, 8, 7]\n",
      "7\n",
      "banana\n",
      "[1, 2, 'apple', 4, 3, 5, 8, 7, 6, 9, 8]\n",
      "[1, 2, 4, 3, 5, 8, 6, 9, 8]\n",
      "[]\n"
     ]
    }
   ],
   "execution_count": 53
  },
  {
   "metadata": {},
   "cell_type": "markdown",
   "source": "Other operations:",
   "id": "7d0a325c355ea7d8"
  },
  {
   "metadata": {
    "ExecuteTime": {
     "end_time": "2025-06-09T10:43:43.543709Z",
     "start_time": "2025-06-09T10:43:43.531708Z"
    }
   },
   "cell_type": "code",
   "source": [
    "print(l3.count(8))\n",
    "print(l3.index(8))\n",
    "print(l3)\n",
    "l3.sort()\n",
    "print(l3)"
   ],
   "id": "d790ed197d8d2672",
   "outputs": [
    {
     "name": "stdout",
     "output_type": "stream",
     "text": [
      "2\n",
      "5\n",
      "[1, 2, 4, 3, 5, 8, 6, 9, 8]\n",
      "[1, 2, 3, 4, 5, 6, 8, 8, 9]\n"
     ]
    }
   ],
   "execution_count": 54
  },
  {
   "metadata": {},
   "cell_type": "markdown",
   "source": "Revesing the list:",
   "id": "5bf91ad78f9c6d28"
  },
  {
   "metadata": {
    "ExecuteTime": {
     "end_time": "2025-06-09T10:48:02.946204Z",
     "start_time": "2025-06-09T10:48:02.934206Z"
    }
   },
   "cell_type": "code",
   "source": [
    "print(l3)\n",
    "l4 = l3.copy()\n",
    "l5 = l3.copy()\n",
    "#using reverse() method\n",
    "l4.reverse()\n",
    "print(l4)\n",
    "#using sort() method\n",
    "l5.sort(reverse=True)\n",
    "print(l5)\n",
    "#using slicing where step = -1\n",
    "#does not change the list\n",
    "print(l3[::-1])\n",
    "print(l3)"
   ],
   "id": "cbeb85172642586",
   "outputs": [
    {
     "name": "stdout",
     "output_type": "stream",
     "text": [
      "[1, 2, 3, 4, 5, 6, 8, 8, 9]\n",
      "[9, 8, 8, 6, 5, 4, 3, 2, 1]\n",
      "[9, 8, 8, 6, 5, 4, 3, 2, 1]\n",
      "[9, 8, 8, 6, 5, 4, 3, 2, 1]\n",
      "[1, 2, 3, 4, 5, 6, 8, 8, 9]\n"
     ]
    }
   ],
   "execution_count": 58
  }
 ],
 "metadata": {
  "kernelspec": {
   "display_name": "Python 3",
   "language": "python",
   "name": "python3"
  },
  "language_info": {
   "codemirror_mode": {
    "name": "ipython",
    "version": 2
   },
   "file_extension": ".py",
   "mimetype": "text/x-python",
   "name": "python",
   "nbconvert_exporter": "python",
   "pygments_lexer": "ipython2",
   "version": "2.7.6"
  }
 },
 "nbformat": 4,
 "nbformat_minor": 5
}
