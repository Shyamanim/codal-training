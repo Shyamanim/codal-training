{
 "cells": [
  {
   "metadata": {},
   "cell_type": "raw",
   "source": "Insert/update operations:",
   "id": "b3e16dd02796f595"
  },
  {
   "cell_type": "code",
   "id": "initial_id",
   "metadata": {
    "collapsed": true,
    "ExecuteTime": {
     "end_time": "2025-06-09T10:43:35.297565Z",
     "start_time": "2025-06-09T10:43:35.286565Z"
    }
   },
   "source": [
    "l1 = [1,2,3]\n",
    "print(l1)\n",
    "l1.insert(2,\"apple\")\n",
    "print(l1)\n",
    "l1.insert(-2,\"banana\")\n",
    "print(l1)\n",
    "l1.insert(-1,4)\n",
    "print(l1)"
   ],
   "outputs": [
    {
     "name": "stdout",
     "output_type": "stream",
     "text": [
      "[1, 2, 3]\n",
      "[1, 2, 'apple', 3]\n",
      "[1, 2, 'banana', 'apple', 3]\n",
      "[1, 2, 'banana', 'apple', 4, 3]\n"
     ]
    }
   ],
   "execution_count": 51
  },
  {
   "metadata": {
    "ExecuteTime": {
     "end_time": "2025-06-09T10:43:37.874307Z",
     "start_time": "2025-06-09T10:43:37.855887Z"
    }
   },
   "cell_type": "code",
   "source": [
    "l1.append(5)\n",
    "print(l1)\n",
    "l1.extend([8,7,6])\n",
    "l2 = [9,8,7]\n",
    "l1.extend(l2)\n",
    "print(l1)"
   ],
   "id": "46faa2d910b6d279",
   "outputs": [
    {
     "name": "stdout",
     "output_type": "stream",
     "text": [
      "[1, 2, 'banana', 'apple', 4, 3, 5]\n",
      "[1, 2, 'banana', 'apple', 4, 3, 5, 8, 7, 6, 9, 8, 7]\n"
     ]
    }
   ],
   "execution_count": 52
  },
  {
   "metadata": {},
   "cell_type": "markdown",
   "source": "Deletion operations:",
   "id": "54025ab367a0610"
  },
  {
   "metadata": {
    "ExecuteTime": {
     "end_time": "2025-06-09T10:43:40.475047Z",
     "start_time": "2025-06-09T10:43:40.462041Z"
    }
   },
   "cell_type": "code",
   "source": [
    "l3 = l1.copy()\n",
    "print(l3)\n",
    "print(l3.pop())\n",
    "print(l3.pop(2))\n",
    "print(l3)\n",
    "l3.remove(\"apple\")\n",
    "l3.remove(7)\n",
    "print(l3)\n",
    "l1.clear()\n",
    "print(l1)"
   ],
   "id": "e1b4490ee481fa6",
   "outputs": [
    {
     "name": "stdout",
     "output_type": "stream",
     "text": [
      "[1, 2, 'banana', 'apple', 4, 3, 5, 8, 7, 6, 9, 8, 7]\n",
      "7\n",
      "banana\n",
      "[1, 2, 'apple', 4, 3, 5, 8, 7, 6, 9, 8]\n",
      "[1, 2, 4, 3, 5, 8, 6, 9, 8]\n",
      "[]\n"
     ]
    }
   ],
   "execution_count": 53
  },
  {
   "metadata": {},
   "cell_type": "markdown",
   "source": "Other operations:",
   "id": "7d0a325c355ea7d8"
  },
  {
   "metadata": {
    "ExecuteTime": {
     "end_time": "2025-06-09T10:43:43.543709Z",
     "start_time": "2025-06-09T10:43:43.531708Z"
    }
   },
   "cell_type": "code",
   "source": [
    "print(l3.count(8))\n",
    "print(l3.index(8))\n",
    "print(l3)\n",
    "l3.sort()\n",
    "print(l3)"
   ],
   "id": "d790ed197d8d2672",
   "outputs": [
    {
     "name": "stdout",
     "output_type": "stream",
     "text": [
      "2\n",
      "5\n",
      "[1, 2, 4, 3, 5, 8, 6, 9, 8]\n",
      "[1, 2, 3, 4, 5, 6, 8, 8, 9]\n"
     ]
    }
   ],
   "execution_count": 54
  },
  {
   "metadata": {},
   "cell_type": "markdown",
   "source": "Revesing the list:",
   "id": "5bf91ad78f9c6d28"
  },
  {
   "metadata": {
    "ExecuteTime": {
     "end_time": "2025-06-09T10:48:02.946204Z",
     "start_time": "2025-06-09T10:48:02.934206Z"
    }
   },
   "cell_type": "code",
   "source": [
    "print(l3)\n",
    "l4 = l3.copy()\n",
    "l5 = l3.copy()\n",
    "#using reverse() method\n",
    "l4.reverse()\n",
    "print(l4)\n",
    "#using sort() method\n",
    "l5.sort(reverse=True)\n",
    "print(l5)\n",
    "#using slicing where step = -1\n",
    "#does not change the list\n",
    "print(l3[::-1])\n",
    "print(l3)"
   ],
   "id": "cbeb85172642586",
   "outputs": [
    {
     "name": "stdout",
     "output_type": "stream",
     "text": [
      "[1, 2, 3, 4, 5, 6, 8, 8, 9]\n",
      "[9, 8, 8, 6, 5, 4, 3, 2, 1]\n",
      "[9, 8, 8, 6, 5, 4, 3, 2, 1]\n",
      "[9, 8, 8, 6, 5, 4, 3, 2, 1]\n",
      "[1, 2, 3, 4, 5, 6, 8, 8, 9]\n"
     ]
    }
   ],
   "execution_count": 58
  },
  {
   "metadata": {
    "ExecuteTime": {
     "end_time": "2025-06-12T06:43:36.164498Z",
     "start_time": "2025-06-12T06:43:36.150826Z"
    }
   },
   "cell_type": "code",
   "source": [
    "from functools import reduce\n",
    "\n",
    "# map\n",
    "squares = list(map(lambda x: x*x, [1, 2, 3]))\n",
    "print(squares)\n",
    "# filter\n",
    "even = list(filter(lambda x: x % 2 == 0, [1, 2, 3, 4]))\n",
    "print(even)\n",
    "# reduce\n",
    "product = reduce(lambda x, y: x * y, [1, 2, 3, 4])\n",
    "print(product)\n",
    "# zip\n",
    "a = [1, 2, 3]\n",
    "b = ['a', 'b', 'c']"
   ],
   "id": "8cffd08fbcb75285",
   "outputs": [
    {
     "name": "stdout",
     "output_type": "stream",
     "text": [
      "[1, 4, 9]\n",
      "[2, 4]\n",
      "24\n"
     ]
    }
   ],
   "execution_count": 3
  },
  {
   "metadata": {},
   "cell_type": "markdown",
   "source": "Concatenation:",
   "id": "e0a8f09ea7a51787"
  },
  {
   "metadata": {
    "ExecuteTime": {
     "end_time": "2025-06-12T06:44:25.948144Z",
     "start_time": "2025-06-12T06:44:25.938731Z"
    }
   },
   "cell_type": "code",
   "source": [
    "# using + operator\n",
    "print(a+b)\n",
    "\n",
    "#usine extend method\n",
    "print(a.extend(b))\n",
    "print(a)"
   ],
   "id": "ee7caabc8bab540f",
   "outputs": [
    {
     "name": "stdout",
     "output_type": "stream",
     "text": [
      "[1, 2, 3, 'a', 'b', 'c', 'a', 'b', 'c']\n",
      "None\n",
      "[1, 2, 3, 'a', 'b', 'c', 'a', 'b', 'c']\n"
     ]
    }
   ],
   "execution_count": 5
  },
  {
   "metadata": {
    "ExecuteTime": {
     "end_time": "2025-06-12T06:44:28.686068Z",
     "start_time": "2025-06-12T06:44:28.663063Z"
    }
   },
   "cell_type": "code",
   "source": [
    "a = a.extend(b)\n",
    "print(a)"
   ],
   "id": "25ff1d6b2bfb20b3",
   "outputs": [
    {
     "name": "stdout",
     "output_type": "stream",
     "text": [
      "None\n"
     ]
    }
   ],
   "execution_count": 6
  },
  {
   "metadata": {},
   "cell_type": "code",
   "outputs": [],
   "execution_count": null,
   "source": [
    "#using for loop\n",
    "marks = [1, 3, 5, 7]\n",
    "marks2 = [2, 4, 6, 8]\n",
    "\n",
    "for items in marks2:\n",
    "    marks.append(items)\n",
    "print(marks)\n",
    "\n",
    "#or\n",
    "\n",
    "concatenated_list = [item for sublist in [marks, marks2]for item in sublist]\n",
    "\n",
    "# using unpacking operator *\n",
    "concatenated_list = [*marks, *marks2]"
   ],
   "id": "780b498181c68421"
  }
 ],
 "metadata": {
  "kernelspec": {
   "display_name": "Python 3",
   "language": "python",
   "name": "python3"
  },
  "language_info": {
   "codemirror_mode": {
    "name": "ipython",
    "version": 2
   },
   "file_extension": ".py",
   "mimetype": "text/x-python",
   "name": "python",
   "nbconvert_exporter": "python",
   "pygments_lexer": "ipython2",
   "version": "2.7.6"
  }
 },
 "nbformat": 4,
 "nbformat_minor": 5
}
