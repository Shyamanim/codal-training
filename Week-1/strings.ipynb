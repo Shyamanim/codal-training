{
 "cells": [
  {
   "metadata": {},
   "cell_type": "markdown",
   "source": "Different ways of concatenating strings:",
   "id": "2458c5a156754e3d"
  },
  {
   "cell_type": "code",
   "id": "initial_id",
   "metadata": {
    "collapsed": true,
    "ExecuteTime": {
     "end_time": "2025-06-09T12:31:11.410937Z",
     "start_time": "2025-06-09T12:31:11.385819Z"
    }
   },
   "source": [
    "s1, s2 = \"Shyamani\", \"Jahnavi\"\n",
    "\n",
    "#using the + operator\n",
    "s3 = s1 + s2\n",
    "\n",
    "#using the f-string\n",
    "s4 = f'{s1}{s2}'\n",
    "\n",
    "#using the format() method\n",
    "s5 = '{}{}'.format(s1,s2)\n",
    "\n",
    "#using the join() method\n",
    "names = [s1, s2]\n",
    "s6 = ''.join(names)\n",
    "\n",
    "print(s3, s4, s5, s6)"
   ],
   "outputs": [
    {
     "name": "stdout",
     "output_type": "stream",
     "text": [
      "ShyamaniJahnavi ShyamaniJahnavi ShyamaniJahnavi ShyamaniJahnavi\n"
     ]
    }
   ],
   "execution_count": 3
  }
 ],
 "metadata": {
  "kernelspec": {
   "display_name": "Python 3",
   "language": "python",
   "name": "python3"
  },
  "language_info": {
   "codemirror_mode": {
    "name": "ipython",
    "version": 2
   },
   "file_extension": ".py",
   "mimetype": "text/x-python",
   "name": "python",
   "nbconvert_exporter": "python",
   "pygments_lexer": "ipython2",
   "version": "2.7.6"
  }
 },
 "nbformat": 4,
 "nbformat_minor": 5
}
