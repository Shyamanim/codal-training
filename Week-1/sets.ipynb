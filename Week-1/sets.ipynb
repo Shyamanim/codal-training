{
 "cells": [
  {
   "metadata": {},
   "cell_type": "markdown",
   "source": "Set operations:",
   "id": "1681b9c6b89263bd"
  },
  {
   "metadata": {
    "ExecuteTime": {
     "end_time": "2025-06-09T17:38:46.416555Z",
     "start_time": "2025-06-09T17:38:46.394020Z"
    }
   },
   "cell_type": "code",
   "source": [
    "set1 = set()\n",
    "set2 = set()\n",
    "\n",
    "for i in range(1, 5):\n",
    "    set1.add(i)\n",
    "\n",
    "for i in range(3, 9):\n",
    "    set2.add(i)\n",
    "\n",
    "print(\"Set1 = \", set1)\n",
    "print(\"Set2 = \", set2)\n",
    "\n",
    "print(\"Difference: \", set1-set2)\n",
    "print(\"Union: \", set1|set2)\n",
    "print(\"Intersection: \", set1&set2)"
   ],
   "id": "initial_id",
   "outputs": [
    {
     "name": "stdout",
     "output_type": "stream",
     "text": [
      "Set1 =  {1, 2, 3, 4}\n",
      "Set2 =  {3, 4, 5, 6, 7, 8}\n",
      "Difference:  {1, 2}\n",
      "Union:  {1, 2, 3, 4, 5, 6, 7, 8}\n",
      "Intersection:  {3, 4}\n"
     ]
    }
   ],
   "execution_count": 7
  },
  {
   "metadata": {},
   "cell_type": "markdown",
   "source": "set methods:",
   "id": "3db2fce6cf0fa669"
  },
  {
   "metadata": {
    "ExecuteTime": {
     "end_time": "2025-06-09T17:38:49.568009Z",
     "start_time": "2025-06-09T17:38:49.546962Z"
    }
   },
   "cell_type": "code",
   "source": [
    "set3 = set1.copy()\n",
    "set3.add(5)\n",
    "\n",
    "print(set3)\n",
    "print(set1.issubset(set3))\n",
    "\n",
    "set3.difference_update(set1)\n",
    "print(set3)\n",
    "set3.discard(5)\n",
    "print(set3)\n",
    "\n",
    "set1.update(set2)\n",
    "print(set1)\n",
    "\n",
    "set1.clear()\n",
    "print(set1)\n"
   ],
   "id": "da476698c36c1b80",
   "outputs": [
    {
     "name": "stdout",
     "output_type": "stream",
     "text": [
      "{1, 2, 3, 4, 5}\n",
      "True\n",
      "{5}\n",
      "set()\n",
      "{1, 2, 3, 4, 5, 6, 7, 8}\n",
      "set()\n"
     ]
    }
   ],
   "execution_count": 8
  }
 ],
 "metadata": {
  "kernelspec": {
   "display_name": "Python 3",
   "language": "python",
   "name": "python3"
  },
  "language_info": {
   "codemirror_mode": {
    "name": "ipython",
    "version": 2
   },
   "file_extension": ".py",
   "mimetype": "text/x-python",
   "name": "python",
   "nbconvert_exporter": "python",
   "pygments_lexer": "ipython2",
   "version": "2.7.6"
  }
 },
 "nbformat": 4,
 "nbformat_minor": 5
}
