{
 "cells": [
  {
   "cell_type": "code",
   "id": "initial_id",
   "metadata": {
    "collapsed": true,
    "ExecuteTime": {
     "end_time": "2025-06-09T18:12:25.271113Z",
     "start_time": "2025-06-09T18:12:25.260114Z"
    }
   },
   "source": [
    "t1 = ()\n",
    "print(t1)\n",
    "t1 = (5,)\n",
    "print(t1)\n",
    "t2 = (t1, 4)\n",
    "print(t2)\n",
    "t3 = t1 + ( 4,)\n",
    "print(t3)\n",
    "t3 *= 3\n",
    "print(t3)"
   ],
   "outputs": [
    {
     "name": "stdout",
     "output_type": "stream",
     "text": [
      "()\n",
      "(5,)\n",
      "((5,), 4)\n",
      "(5, 4)\n",
      "(5, 4, 5, 4, 5, 4)\n"
     ]
    }
   ],
   "execution_count": 7
  },
  {
   "metadata": {
    "ExecuteTime": {
     "end_time": "2025-06-09T18:17:05.391736Z",
     "start_time": "2025-06-09T18:17:05.365684Z"
    }
   },
   "cell_type": "code",
   "source": [
    "print(t3.index(4))\n",
    "print(len(t3))\n",
    "print(t3.count(4))\n",
    "print(max(t3))\n",
    "print(sum(t3))\n",
    "print(sorted(t3))\n",
    "print(t3[-1])\n",
    "print(t3[3:6])\n",
    "del t3\n",
    "print(t3)"
   ],
   "id": "e6707e513656f07a",
   "outputs": [
    {
     "name": "stdout",
     "output_type": "stream",
     "text": [
      "1\n",
      "6\n",
      "3\n",
      "5\n",
      "27\n",
      "[4, 4, 4, 5, 5, 5]\n",
      "4\n",
      "(4, 5, 4)\n"
     ]
    },
    {
     "ename": "NameError",
     "evalue": "name 't3' is not defined",
     "output_type": "error",
     "traceback": [
      "\u001B[1;31m---------------------------------------------------------------------------\u001B[0m",
      "\u001B[1;31mNameError\u001B[0m                                 Traceback (most recent call last)",
      "Cell \u001B[1;32mIn[10], line 10\u001B[0m\n\u001B[0;32m      8\u001B[0m \u001B[38;5;28mprint\u001B[39m(t3[\u001B[38;5;241m3\u001B[39m:\u001B[38;5;241m6\u001B[39m])\n\u001B[0;32m      9\u001B[0m \u001B[38;5;28;01mdel\u001B[39;00m t3\n\u001B[1;32m---> 10\u001B[0m \u001B[38;5;28mprint\u001B[39m(\u001B[43mt3\u001B[49m)\n",
      "\u001B[1;31mNameError\u001B[0m: name 't3' is not defined"
     ]
    }
   ],
   "execution_count": 10
  },
  {
   "metadata": {},
   "cell_type": "code",
   "outputs": [],
   "execution_count": null,
   "source": "",
   "id": "96c4db0a4e3923c1"
  }
 ],
 "metadata": {
  "kernelspec": {
   "display_name": "Python 3",
   "language": "python",
   "name": "python3"
  },
  "language_info": {
   "codemirror_mode": {
    "name": "ipython",
    "version": 2
   },
   "file_extension": ".py",
   "mimetype": "text/x-python",
   "name": "python",
   "nbconvert_exporter": "python",
   "pygments_lexer": "ipython2",
   "version": "2.7.6"
  }
 },
 "nbformat": 4,
 "nbformat_minor": 5
}
