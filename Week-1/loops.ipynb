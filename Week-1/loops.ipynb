{
 "cells": [
  {
   "metadata": {},
   "cell_type": "markdown",
   "source": "Different ways to implement For loop:\n",
   "id": "4fabfc6cbeb62f60"
  },
  {
   "metadata": {
    "ExecuteTime": {
     "end_time": "2025-06-09T12:59:00.859990Z",
     "start_time": "2025-06-09T12:59:00.848992Z"
    }
   },
   "cell_type": "code",
   "source": [
    "import math\n",
    "\n",
    "# Looping through an iterable (list/string/dictionary):\n",
    "\n",
    "l1 = [1,2,3,4,5,6,7,8,9]\n",
    "d1 = {\"n1\": \"Shyamani\",\n",
    "      \"n2\": \"Jahnavi\"}\n",
    "\n",
    "for x in l1:\n",
    "    print(x, end=\" \")\n",
    "\n",
    "for y in \"Shyamani\":\n",
    "    print(y, end=\"\")\n",
    "\n",
    "for z in d1:\n",
    "    print(\"\\n\", z, d1[z])"
   ],
   "id": "44a010a99f36b1d5",
   "outputs": [
    {
     "name": "stdout",
     "output_type": "stream",
     "text": [
      "1 2 3 4 5 6 7 8 9 Shyamani\n",
      "n1 Shyamani\n",
      "\n",
      "n2 Jahnavi\n"
     ]
    }
   ],
   "execution_count": 7
  },
  {
   "metadata": {
    "ExecuteTime": {
     "end_time": "2025-06-09T14:04:17.335510Z",
     "start_time": "2025-06-09T14:04:17.313511Z"
    }
   },
   "cell_type": "code",
   "source": [
    "#Using range(start, stop, step) method:\n",
    "for i in range(5):\n",
    "    print(i, end=\" \")\n",
    "print('\\n')\n",
    "\n",
    "for j in range(1, 6):\n",
    "    print(j, end=\" \")\n",
    "print('\\n')\n",
    "\n",
    "for k in range(10, 1, -2):\n",
    "    print(k, end=\" \")"
   ],
   "id": "74a6174e11fc77ae",
   "outputs": [
    {
     "name": "stdout",
     "output_type": "stream",
     "text": [
      "0 1 2 3 4 \n",
      "\n",
      "1 2 3 4 5 \n",
      "\n",
      "10 8 6 4 2 "
     ]
    }
   ],
   "execution_count": 12
  },
  {
   "metadata": {
    "ExecuteTime": {
     "end_time": "2025-06-09T16:27:31.492239Z",
     "start_time": "2025-06-09T16:27:31.473237Z"
    }
   },
   "cell_type": "code",
   "source": [
    "#Using loops with enumerate():\n",
    "fruits = ['apple', 'banana', 'orange', 'strawberry']\n",
    "print('Shopping list: \\n')\n",
    "for x,y in enumerate(fruits):\n",
    "    print(f'{x+1}. {y}')"
   ],
   "id": "1cf6697a2fd18d94",
   "outputs": [
    {
     "name": "stdout",
     "output_type": "stream",
     "text": [
      "Shopping list: \n",
      "\n",
      "1. apple\n",
      "2. banana\n",
      "3. orange\n",
      "4. strawberry\n"
     ]
    }
   ],
   "execution_count": 14
  },
  {
   "metadata": {
    "ExecuteTime": {
     "end_time": "2025-06-09T16:54:26.643615Z",
     "start_time": "2025-06-09T16:54:26.624540Z"
    }
   },
   "cell_type": "code",
   "source": [
    "#Using nested loops:\n",
    "\n",
    "import math\n",
    "for x in range(-2,3):\n",
    "    print('\\n')\n",
    "    for y in range(3- abs(x)):\n",
    "        print('*', end=' ')"
   ],
   "id": "5eb35b60ea9bbae8",
   "outputs": [
    {
     "name": "stdout",
     "output_type": "stream",
     "text": [
      "\n",
      "\n",
      "* \n",
      "\n",
      "* * \n",
      "\n",
      "* * * \n",
      "\n",
      "* * \n",
      "\n",
      "* "
     ]
    }
   ],
   "execution_count": 34
  },
  {
   "metadata": {
    "ExecuteTime": {
     "end_time": "2025-06-09T16:55:15.753554Z",
     "start_time": "2025-06-09T16:55:15.735446Z"
    }
   },
   "cell_type": "code",
   "source": [
    "#Using list comprehension (useful for creating new list based on an existing list):\n",
    "num = [-2,-1,0,1,2,3,4,5]\n",
    "squared = [x*x for x in num if x>0 ]\n",
    "print(squared)"
   ],
   "id": "36c308d5833a007c",
   "outputs": [
    {
     "name": "stdout",
     "output_type": "stream",
     "text": [
      "[1, 4, 9, 16, 25]\n"
     ]
    }
   ],
   "execution_count": 37
  }
 ],
 "metadata": {
  "kernelspec": {
   "display_name": "Python 3",
   "language": "python",
   "name": "python3"
  },
  "language_info": {
   "codemirror_mode": {
    "name": "ipython",
    "version": 2
   },
   "file_extension": ".py",
   "mimetype": "text/x-python",
   "name": "python",
   "nbconvert_exporter": "python",
   "pygments_lexer": "ipython2",
   "version": "2.7.6"
  }
 },
 "nbformat": 4,
 "nbformat_minor": 5
}
