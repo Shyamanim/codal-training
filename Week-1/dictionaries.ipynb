{
 "cells": [
  {
   "metadata": {},
   "cell_type": "markdown",
   "source": "Dictionary methods:",
   "id": "422c1025590e709c"
  },
  {
   "cell_type": "code",
   "id": "initial_id",
   "metadata": {
    "collapsed": true,
    "ExecuteTime": {
     "end_time": "2025-06-09T17:57:46.218673Z",
     "start_time": "2025-06-09T17:57:46.205481Z"
    }
   },
   "source": [
    "keys = [1,2,3,4,5]\n",
    "values = ['a','b','c','d','e']\n",
    "d1 = dict(zip(keys,values))\n",
    "print(d1)"
   ],
   "outputs": [
    {
     "name": "stdout",
     "output_type": "stream",
     "text": [
      "{1: 'a', 2: 'b', 3: 'c', 4: 'd', 5: 'e'}\n"
     ]
    }
   ],
   "execution_count": 3
  },
  {
   "metadata": {
    "ExecuteTime": {
     "end_time": "2025-06-09T17:58:02.885600Z",
     "start_time": "2025-06-09T17:58:02.879346Z"
    }
   },
   "cell_type": "code",
   "source": [
    "d2 = d1.copy()\n",
    "print(d2.get(3))\n",
    "print(d2[3])"
   ],
   "id": "15aa1ee00a78e1d6",
   "outputs": [
    {
     "name": "stdout",
     "output_type": "stream",
     "text": [
      "c\n",
      "c\n"
     ]
    }
   ],
   "execution_count": 4
  },
  {
   "metadata": {
    "ExecuteTime": {
     "end_time": "2025-06-09T17:58:16.203563Z",
     "start_time": "2025-06-09T17:58:16.191004Z"
    }
   },
   "cell_type": "code",
   "source": [
    "d2[6]='f'\n",
    "print(d2)"
   ],
   "id": "32751113b08c606",
   "outputs": [
    {
     "name": "stdout",
     "output_type": "stream",
     "text": [
      "{1: 'a', 2: 'b', 3: 'c', 4: 'd', 5: 'e', 6: 'f'}\n"
     ]
    }
   ],
   "execution_count": 5
  },
  {
   "metadata": {
    "ExecuteTime": {
     "end_time": "2025-06-09T17:58:28.127256Z",
     "start_time": "2025-06-09T17:58:28.115974Z"
    }
   },
   "cell_type": "code",
   "source": [
    "d2.update({7:'g', 8:'h'})\n",
    "print(d2)"
   ],
   "id": "f4e04d90ea6d8f71",
   "outputs": [
    {
     "name": "stdout",
     "output_type": "stream",
     "text": [
      "{1: 'a', 2: 'b', 3: 'c', 4: 'd', 5: 'e', 6: 'f', 7: 'g', 8: 'h'}\n"
     ]
    }
   ],
   "execution_count": 6
  },
  {
   "metadata": {
    "ExecuteTime": {
     "end_time": "2025-06-09T17:59:40.329696Z",
     "start_time": "2025-06-09T17:59:40.316687Z"
    }
   },
   "cell_type": "code",
   "source": [
    "print(d2.popitem())\n",
    "print(d2)\n",
    "print(d2.pop(2))\n",
    "print(d2)"
   ],
   "id": "e8d28ca986d9bc53",
   "outputs": [
    {
     "name": "stdout",
     "output_type": "stream",
     "text": [
      "(6, 'f')\n",
      "{1: 'a', 2: 'b', 3: 'c', 4: 'd'}\n",
      "b\n",
      "{1: 'a', 3: 'c', 4: 'd'}\n"
     ]
    }
   ],
   "execution_count": 9
  },
  {
   "metadata": {
    "ExecuteTime": {
     "end_time": "2025-06-09T18:00:29.310332Z",
     "start_time": "2025-06-09T18:00:29.302677Z"
    }
   },
   "cell_type": "code",
   "source": [
    "print(d2.keys())\n",
    "print(d2.values())\n",
    "print(d2.items())"
   ],
   "id": "64b83172868acd8a",
   "outputs": [
    {
     "name": "stdout",
     "output_type": "stream",
     "text": [
      "dict_keys([1, 3, 4])\n",
      "dict_values(['a', 'c', 'd'])\n",
      "dict_items([(1, 'a'), (3, 'c'), (4, 'd')])\n"
     ]
    }
   ],
   "execution_count": 12
  },
  {
   "metadata": {
    "ExecuteTime": {
     "end_time": "2025-06-09T18:00:31.837161Z",
     "start_time": "2025-06-09T18:00:31.819165Z"
    }
   },
   "cell_type": "code",
   "source": [
    "d2.clear()\n",
    "print(d2)"
   ],
   "id": "9f31d7c168c508c4",
   "outputs": [
    {
     "name": "stdout",
     "output_type": "stream",
     "text": [
      "{}\n"
     ]
    }
   ],
   "execution_count": 13
  }
 ],
 "metadata": {
  "kernelspec": {
   "display_name": "Python 3",
   "language": "python",
   "name": "python3"
  },
  "language_info": {
   "codemirror_mode": {
    "name": "ipython",
    "version": 2
   },
   "file_extension": ".py",
   "mimetype": "text/x-python",
   "name": "python",
   "nbconvert_exporter": "python",
   "pygments_lexer": "ipython2",
   "version": "2.7.6"
  }
 },
 "nbformat": 4,
 "nbformat_minor": 5
}
