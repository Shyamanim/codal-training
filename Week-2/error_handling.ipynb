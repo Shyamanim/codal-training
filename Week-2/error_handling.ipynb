{
 "cells": [
  {
   "cell_type": "code",
   "id": "initial_id",
   "metadata": {
    "collapsed": true,
    "ExecuteTime": {
     "end_time": "2025-06-11T06:50:11.443531Z",
     "start_time": "2025-06-11T06:50:11.422929Z"
    }
   },
   "source": [
    "try:\n",
    "    quotient = 10/0\n",
    "except ZeroDivisionError:\n",
    "    print(\"can't divide by zero\")"
   ],
   "outputs": [
    {
     "name": "stdout",
     "output_type": "stream",
     "text": [
      "can't divide by zero\n"
     ]
    }
   ],
   "execution_count": 1
  },
  {
   "metadata": {
    "ExecuteTime": {
     "end_time": "2025-06-11T06:50:46.490399Z",
     "start_time": "2025-06-11T06:50:46.472922Z"
    }
   },
   "cell_type": "code",
   "source": [
    "try:\n",
    "    quotient = 10/0\n",
    "except ZeroDivisionError as e:\n",
    "    print(e)"
   ],
   "id": "2431c42fcf76f7ce",
   "outputs": [
    {
     "name": "stdout",
     "output_type": "stream",
     "text": [
      "division by zero\n"
     ]
    }
   ],
   "execution_count": 3
  },
  {
   "metadata": {
    "ExecuteTime": {
     "end_time": "2025-06-11T06:52:06.120623Z",
     "start_time": "2025-06-11T06:52:06.109623Z"
    }
   },
   "cell_type": "code",
   "source": [
    "try:\n",
    "    a = 2000\n",
    "    if a<3000:\n",
    "        raise ValueError('low balance')\n",
    "    else:\n",
    "        print(a)\n",
    "except ValueError as e:\n",
    "    print(e)"
   ],
   "id": "15bdfd1fe25553e",
   "outputs": [
    {
     "name": "stdout",
     "output_type": "stream",
     "text": [
      "low balance\n"
     ]
    }
   ],
   "execution_count": 4
  },
  {
   "metadata": {
    "ExecuteTime": {
     "end_time": "2025-06-11T06:53:21.382977Z",
     "start_time": "2025-06-11T06:53:21.372975Z"
    }
   },
   "cell_type": "code",
   "source": [
    "try:\n",
    "    list1 = [1,2,3]\n",
    "    for i in range(4):\n",
    "        print(list1[i])\n",
    "except Exception as e:  # using generic exception\n",
    "    print(e)"
   ],
   "id": "993fb0476dd8948",
   "outputs": [
    {
     "name": "stdout",
     "output_type": "stream",
     "text": [
      "1\n",
      "2\n",
      "3\n",
      "list index out of range\n"
     ]
    }
   ],
   "execution_count": 5
  },
  {
   "metadata": {
    "ExecuteTime": {
     "end_time": "2025-06-11T16:28:41.722716Z",
     "start_time": "2025-06-11T16:28:41.717415Z"
    }
   },
   "cell_type": "code",
   "source": [
    "# user defined exception\n",
    "\n",
    "class MyException(Exception):\n",
    "    def __init__(self, msg='error occurred'):\n",
    "        self.msg = msg\n",
    "    def __str__(self):\n",
    "        return self.msg\n",
    "\n",
    "try:\n",
    "    raise MyException\n",
    "except MyException as e:\n",
    "    print(e)"
   ],
   "id": "2819897b6b481fcd",
   "outputs": [
    {
     "name": "stdout",
     "output_type": "stream",
     "text": [
      "error occured\n"
     ]
    }
   ],
   "execution_count": 8
  },
  {
   "metadata": {},
   "cell_type": "markdown",
   "source": [
    "Other types of exceptions:\n",
    "\n",
    "AssertionError\tIt occurs when the assert statement fails\n",
    "\n",
    "AttributeError\tIt occurs when an attribute assignment is failed.\n",
    "\n",
    "ImportError\t    It occurs when an imported module is not found.\n",
    "\n",
    "KeyError\t    It occurs when the key of the dictionary is not found.\n",
    "\n",
    "NameError\t    It occurs when the variable is not defined.\n",
    "\n",
    "MemoryError \tIt occurs when a program runs out of memory.\n",
    "\n",
    "TypeError\t    It occurs when a function and operation are applied in an incorrect type."
   ],
   "id": "d190728671f7ca62"
  }
 ],
 "metadata": {
  "kernelspec": {
   "display_name": "Python 3",
   "language": "python",
   "name": "python3"
  },
  "language_info": {
   "codemirror_mode": {
    "name": "ipython",
    "version": 2
   },
   "file_extension": ".py",
   "mimetype": "text/x-python",
   "name": "python",
   "nbconvert_exporter": "python",
   "pygments_lexer": "ipython2",
   "version": "2.7.6"
  }
 },
 "nbformat": 4,
 "nbformat_minor": 5
}
