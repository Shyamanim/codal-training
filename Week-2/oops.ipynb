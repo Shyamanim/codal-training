{
 "cells": [
  {
   "metadata": {},
   "cell_type": "markdown",
   "source": "Classes and Objects:",
   "id": "ea01b192ba91e39f"
  },
  {
   "cell_type": "code",
   "id": "initial_id",
   "metadata": {
    "collapsed": true,
    "ExecuteTime": {
     "end_time": "2025-06-11T04:53:45.599980Z",
     "start_time": "2025-06-11T04:53:45.591983Z"
    }
   },
   "source": [
    "# creating a class\n",
    "class Electronics:\n",
    "    brand = 'Samsung'  #class attribute\n",
    "\n",
    "    #init function is the constructor which initialises the attributes when new object is created\n",
    "    def __init__(self, battery, memory):\n",
    "        self.battery = battery  #instance attributes\n",
    "        self.memory = memory\n",
    "\n",
    "    def describe(self):\n",
    "        print('Welcome to Electronics!')\n",
    "\n",
    "# creating an object (instantiating a class)\n",
    "device1 = Electronics(10000,256)\n",
    "print(device1.battery, \"mah\")\n",
    "print(device1.memory, \"GB\")\n",
    "print(device1.brand)\n",
    "\n",
    "device1.brand = 'apple' #overriding the class variable\n",
    "print(device1.brand)\n",
    "print(Electronics.brand)\n"
   ],
   "outputs": [
    {
     "name": "stdout",
     "output_type": "stream",
     "text": [
      "10000 mah\n",
      "256 GB\n",
      "Samsung\n",
      "apple\n",
      "Samsung\n"
     ]
    }
   ],
   "execution_count": 5
  },
  {
   "metadata": {},
   "cell_type": "markdown",
   "source": "Inheritance:",
   "id": "2441bcdd5cd737a1"
  },
  {
   "metadata": {
    "ExecuteTime": {
     "end_time": "2025-06-11T04:53:47.788741Z",
     "start_time": "2025-06-11T04:53:47.759742Z"
    }
   },
   "cell_type": "code",
   "source": [
    "# single inheritance\n",
    "\n",
    "class Laptop(Electronics):\n",
    "    def __init__(self, battery, memory, screen_size):\n",
    "        super().__init__(battery, memory)\n",
    "        self.screen_size = screen_size\n",
    "\n",
    "    def __str__(self):  #used for string representation of an object\n",
    "        return f'the laptop has the battery capacity of {self.battery}mAh, memory  {self.memory}GB and the screen size  {self.screen_size}\"'\n",
    "\n",
    "laptop = Laptop(8000,512,15.6)\n",
    "print(laptop)\n",
    "\n",
    "# multilevel inheritance\n",
    "\n",
    "class Convertible(Laptop):\n",
    "    def __init__(self, battery, memory, screen_size,price):\n",
    "        super().__init__(battery, memory,screen_size)\n",
    "        self.price = price\n",
    "\n",
    "    def __str__(self):\n",
    "        return f'\\nthe laptop has the battery capacity of {self.battery}mAh, memory  {self.memory}GB, the screen size of {self.screen_size}\" and the price of {self.price} rupees.'\n",
    "\n",
    "convertible_laptop = Convertible(6000,512,13,32000)\n",
    "print(convertible_laptop)\n",
    "\n",
    "# hierarchical inheritance\n",
    "\n",
    "class Mobile(Electronics):\n",
    "    def __init__(self, battery, memory, technology):\n",
    "        Electronics.__init__(self, battery, memory)\n",
    "        self.technology = technology\n",
    "\n",
    "    def __str__(self):\n",
    "        return f'\\nthe mobile has the battery capacity of {self.battery}mAh, memory  {self.memory}GB and uses {self.technology}.'\n",
    "\n",
    "mobile = Mobile(6000, 128, \"5G\")\n",
    "print(mobile)\n",
    "\n",
    "# multiple(as well as hybrid) inheritance\n",
    "\n",
    "class Tablet(Mobile,Laptop):\n",
    "    def __init__(self, battery, memory, technology, screen_size):\n",
    "        Mobile.__init__(self,battery, memory, technology)\n",
    "        self.screen_size = screen_size\n",
    "\n",
    "    def __str__(self):\n",
    "        return f'\\nthe tablet has the battery capacity of {self.battery}mAh, memory  {self.memory}GB, the screen size of {self.screen_size}\" and uses {self.technology}.'\n",
    "\n",
    "tablet = Tablet(5000,126, \"5G\", 12)\n",
    "print(tablet)\n",
    "print(Tablet.__mro__)"
   ],
   "id": "29156fa14c46d9ea",
   "outputs": [
    {
     "name": "stdout",
     "output_type": "stream",
     "text": [
      "the laptop has the battery capacity of 8000mAh, memory  512GB and the screen size  15.6\"\n",
      "\n",
      "the laptop has the battery capacity of 6000mAh, memory  512GB, the screen size of 13\" and the price of 32000 rupees.\n",
      "\n",
      "the mobile has the battery capacity of 6000mAh, memory  128GB and uses 5G.\n",
      "\n",
      "the tablet has the battery capacity of 5000mAh, memory  126GB, the screen size of 12\" and uses 5G.\n",
      "(<class '__main__.Tablet'>, <class '__main__.Mobile'>, <class '__main__.Laptop'>, <class '__main__.Electronics'>, <class 'object'>)\n"
     ]
    }
   ],
   "execution_count": 6
  },
  {
   "metadata": {},
   "cell_type": "markdown",
   "source": "Polymorphism:",
   "id": "3b5e94961f744085"
  },
  {
   "metadata": {
    "ExecuteTime": {
     "end_time": "2025-06-11T04:54:21.834016Z",
     "start_time": "2025-06-11T04:54:21.813760Z"
    }
   },
   "cell_type": "code",
   "source": [
    "# runtime polymorphism (method overriding):\n",
    "\n",
    "class Headphones(Electronics):\n",
    "    def describe(self):\n",
    "        print('Welcome to Headphones!') # describe method of electronics is overridden\n",
    "h = Headphones(3000,1)\n",
    "h.describe()\n",
    "\n",
    "# compile time polymorphism (method overloading):\n",
    "\n",
    "class Operations:\n",
    "    def sum(self,a,b=0,c=0):\n",
    "      return a + b + c\n",
    "\n",
    "op = Operations()\n",
    "print(op.sum(1))\n",
    "print(op.sum(1,2))\n",
    "print(op.sum(1,2,3))"
   ],
   "id": "2831af8a7e66ce6f",
   "outputs": [
    {
     "name": "stdout",
     "output_type": "stream",
     "text": [
      "Welcome to Headphones!\n",
      "1\n",
      "3\n",
      "6\n"
     ]
    }
   ],
   "execution_count": 8
  },
  {
   "metadata": {},
   "cell_type": "markdown",
   "source": "Encapsulation:",
   "id": "1f9da789d1a1eeb6"
  },
  {
   "metadata": {
    "ExecuteTime": {
     "end_time": "2025-06-11T06:11:56.477059Z",
     "start_time": "2025-06-11T06:11:56.466620Z"
    }
   },
   "cell_type": "code",
   "source": [
    "class Television:\n",
    "    def __init__(self, brand, screen_size, price):\n",
    "        self.brand = brand              #public attribute\n",
    "        self._screen_size = screen_size #protected attribute\n",
    "        self.__price = price            #private attribute\n",
    "\n",
    "    def set_price(self, price):\n",
    "        self.__price = price\n",
    "\n",
    "    def get_price(self):\n",
    "        return self.__price\n",
    "\n",
    "television = Television(\"samsung\",56, 50000)\n",
    "print(television.brand)\n",
    "print(television._screen_size)  # protected member can be accessed outside class but discouraged\n",
    "print(television.get_price())   #can only be accessed using method defined inside the class\n"
   ],
   "id": "c3b63bbb5ecc7908",
   "outputs": [
    {
     "name": "stdout",
     "output_type": "stream",
     "text": [
      "samsung\n",
      "56\n",
      "50000\n"
     ]
    }
   ],
   "execution_count": 12
  }
 ],
 "metadata": {
  "kernelspec": {
   "display_name": "Python 3",
   "language": "python",
   "name": "python3"
  },
  "language_info": {
   "codemirror_mode": {
    "name": "ipython",
    "version": 2
   },
   "file_extension": ".py",
   "mimetype": "text/x-python",
   "name": "python",
   "nbconvert_exporter": "python",
   "pygments_lexer": "ipython2",
   "version": "2.7.6"
  }
 },
 "nbformat": 4,
 "nbformat_minor": 5
}
