{
 "cells": [
  {
   "metadata": {},
   "cell_type": "markdown",
   "source": "Classes and Objects:",
   "id": "ea01b192ba91e39f"
  },
  {
   "cell_type": "code",
   "id": "initial_id",
   "metadata": {
    "collapsed": true,
    "ExecuteTime": {
     "end_time": "2025-06-16T16:32:47.145950Z",
     "start_time": "2025-06-16T16:32:47.125959Z"
    }
   },
   "source": [
    "# creating a class\n",
    "class Electronics:\n",
    "    brand = 'Samsung'  #class attribute\n",
    "\n",
    "    #init function is the constructor which initialises the attributes when new object is created\n",
    "    def __init__(self, battery, memory):\n",
    "        self.battery = battery  #instance attributes\n",
    "        self.memory = memory\n",
    "\n",
    "    def describe(self):\n",
    "        print('Welcome to Electronics!')\n",
    "\n",
    "# creating an object (instantiating a class)\n",
    "device1 = Electronics(10000,256)\n",
    "print(device1.battery, \"mah\")\n",
    "print(device1.memory, \"GB\")\n",
    "print(device1.brand)\n",
    "\n",
    "device1.brand = 'apple' #overriding the class variable\n",
    "print(device1.brand)\n",
    "print(Electronics.brand)\n"
   ],
   "outputs": [
    {
     "name": "stdout",
     "output_type": "stream",
     "text": [
      "10000 mah\n",
      "256 GB\n",
      "Samsung\n",
      "apple\n",
      "Samsung\n"
     ]
    }
   ],
   "execution_count": 26
  },
  {
   "metadata": {},
   "cell_type": "markdown",
   "source": "Inheritance:",
   "id": "2441bcdd5cd737a1"
  },
  {
   "metadata": {
    "ExecuteTime": {
     "end_time": "2025-06-16T16:32:47.209678Z",
     "start_time": "2025-06-16T16:32:47.179669Z"
    }
   },
   "cell_type": "code",
   "source": [
    "   # single inheritance\n",
    "\n",
    "class Laptop(Electronics):\n",
    "    def __init__(self, battery, memory, screen_size):\n",
    "        super().__init__(battery, memory)\n",
    "        self.screen_size = screen_size\n",
    "\n",
    "    def __str__(self):  #used for string representation of an object\n",
    "        return f'the laptop has the battery capacity of {self.battery}mAh, memory  {self.memory}GB and the screen size  {self.screen_size}\"'\n",
    "\n",
    "laptop = Laptop(8000,512,15.6)\n",
    "print(laptop)\n",
    "\n",
    "# multilevel inheritance\n",
    "\n",
    "class Convertible(Laptop):\n",
    "    def __init__(self, battery, memory, screen_size,price):\n",
    "        super().__init__(battery, memory,screen_size)\n",
    "        self.price = price\n",
    "\n",
    "    def __str__(self):\n",
    "        return f'\\nthe laptop has the battery capacity of {self.battery}mAh, memory  {self.memory}GB, the screen size of {self.screen_size}\" and the price of {self.price} rupees.'\n",
    "\n",
    "convertible_laptop = Convertible(6000,512,13,32000)\n",
    "print(convertible_laptop)\n",
    "\n",
    "# hierarchical inheritance\n",
    "\n",
    "class Mobile(Electronics):\n",
    "    def __init__(self, battery, memory, technology):\n",
    "        Electronics.__init__( self, battery, memory)\n",
    "        #super().__init__(battery, memory)\n",
    "        self.technology = technology\n",
    "\n",
    "    def __str__(self):\n",
    "        return f'\\nthe mobile has the battery capacity of {self.battery}mAh, memory  {self.memory}GB and uses {self.technology}.'\n",
    "\n",
    "mobile = Mobile(6000, 128, \"5G\")\n",
    "print(mobile)\n",
    "\n",
    "# multiple(as well as hybrid) inheritance\n",
    "\n",
    "class Tablet(Mobile,Laptop):\n",
    "    def __init__(self, battery, memory, technology, screen_size):\n",
    "        super().__init__(battery, memory, technology)\n",
    "        self.screen_size = screen_size\n",
    "\n",
    "    def __str__(self):\n",
    "        return f'\\nthe tablet has the battery capacity of {self.battery}mAh, memory  {self.memory}GB, the screen size of {self.screen_size}\" and uses {self.technology}.'\n",
    "\n",
    "tablet = Tablet(5000,126, \"5G\", 12)\n",
    "print(tablet)\n",
    "print(Tablet.__mro__)"
   ],
   "id": "29156fa14c46d9ea",
   "outputs": [
    {
     "name": "stdout",
     "output_type": "stream",
     "text": [
      "the laptop has the battery capacity of 8000mAh, memory  512GB and the screen size  15.6\"\n",
      "\n",
      "the laptop has the battery capacity of 6000mAh, memory  512GB, the screen size of 13\" and the price of 32000 rupees.\n",
      "\n",
      "the mobile has the battery capacity of 6000mAh, memory  128GB and uses 5G.\n",
      "\n",
      "the tablet has the battery capacity of 5000mAh, memory  126GB, the screen size of 12\" and uses 5G.\n",
      "(<class '__main__.Tablet'>, <class '__main__.Mobile'>, <class '__main__.Laptop'>, <class '__main__.Electronics'>, <class 'object'>)\n"
     ]
    }
   ],
   "execution_count": 27
  },
  {
   "metadata": {},
   "cell_type": "markdown",
   "source": "Polymorphism:",
   "id": "3b5e94961f744085"
  },
  {
   "metadata": {
    "ExecuteTime": {
     "end_time": "2025-06-16T16:32:47.271003Z",
     "start_time": "2025-06-16T16:32:47.248492Z"
    }
   },
   "cell_type": "code",
   "source": [
    "# runtime polymorphism (method overriding):\n",
    "\n",
    "class Headphones(Electronics):\n",
    "    def describe(self):\n",
    "        print('Welcome to Headphones!') # describe method of electronics is overridden\n",
    "h = Headphones(3000,1)\n",
    "h.describe()\n",
    "\n",
    "# compile time polymorphism (method overloading):\n",
    "\n",
    "class Operations:\n",
    "    def sum(self,a,b=0,c=0):\n",
    "      return a + b + c\n",
    "\n",
    "    # def sum(self,a,b,c):\n",
    "    #     return a+b+c\n",
    "    # def sum(self,a,b):\n",
    "    #     return a+b\n",
    "\n",
    "\n",
    "\n",
    "op = Operations()\n",
    "print(op.sum(1,2))      # prints 3 in both cases\n",
    "print(op.sum(1,2,3))    # wont work for 2nd approach, throws type error\n"
   ],
   "id": "2831af8a7e66ce6f",
   "outputs": [
    {
     "name": "stdout",
     "output_type": "stream",
     "text": [
      "Welcome to Headphones!\n",
      "3\n",
      "6\n"
     ]
    }
   ],
   "execution_count": 28
  },
  {
   "metadata": {},
   "cell_type": "markdown",
   "source": "Encapsulation:",
   "id": "1f9da789d1a1eeb6"
  },
  {
   "metadata": {
    "ExecuteTime": {
     "end_time": "2025-06-16T16:32:47.318635Z",
     "start_time": "2025-06-16T16:32:47.305159Z"
    }
   },
   "cell_type": "code",
   "source": [
    "class Television:\n",
    "    def __init__(self, brand, screen_size, price):\n",
    "        self.brand = brand              #public attribute\n",
    "        self._screen_size = screen_size #protected attribute\n",
    "        self.__price = price            #private attribute\n",
    "\n",
    "    def set_price(self, price):\n",
    "        self.__price = price\n",
    "\n",
    "    def get_price(self):\n",
    "        return self.__price\n",
    "\n",
    "television = Television(\"samsung\",56, 50000)\n",
    "\n",
    "print(television.brand)\n",
    "print(television._screen_size)  # protected member can be accessed outside class but discouraged\n",
    "print(television.get_price())   #can only be accessed using method defined inside the class\n",
    "\n",
    "# adding new attributes from outside the class\n",
    "television.type = \"Qled\"\n",
    "television._release_year = \"2025\"\n",
    "\n",
    "print(television.type)\n",
    "print(television._release_year)\n",
    "\n",
    "\n",
    "#television.__model = \"Q60\"             # does NOT make it private\n",
    "#television._Television__model = \"Q60\"  # is a private attribute (using mangled name explicitly)\n",
    "# print(television.__model)\n",
    "\n"
   ],
   "id": "c3b63bbb5ecc7908",
   "outputs": [
    {
     "name": "stdout",
     "output_type": "stream",
     "text": [
      "samsung\n",
      "56\n",
      "50000\n",
      "Qled\n",
      "2025\n"
     ]
    }
   ],
   "execution_count": 29
  },
  {
   "metadata": {},
   "cell_type": "markdown",
   "source": "Abstraction:",
   "id": "3e5d11ecb387f895"
  },
  {
   "metadata": {
    "ExecuteTime": {
     "end_time": "2025-06-16T16:32:47.379275Z",
     "start_time": "2025-06-16T16:32:47.365879Z"
    }
   },
   "cell_type": "code",
   "source": [
    "from abc import ABC, abstractmethod\n",
    "\n",
    "class RemoteControl(ABC):       # abstract class acts as an interface, defines what a remote should do but not how it should do it\n",
    "    @abstractmethod\n",
    "    def power_on(self):\n",
    "        pass                   # pass placeholder used since  methods must have a body\n",
    "\n",
    "    @abstractmethod             # decorator marks the methods which must be implemented in the subclasses\n",
    "    def up_key(self):        # no logic defined in these methods, only their interface (signature) is created\n",
    "        pass\n",
    "\n",
    "# r = RemoteControl()           # won't work with abstract methods\n",
    "# r.power_on()"
   ],
   "id": "770dee9a38ee810c",
   "outputs": [],
   "execution_count": 30
  },
  {
   "metadata": {
    "ExecuteTime": {
     "end_time": "2025-06-16T16:32:47.426402Z",
     "start_time": "2025-06-16T16:32:47.413337Z"
    }
   },
   "cell_type": "code",
   "source": [
    "class AcRemote(RemoteControl):\n",
    "    def power_on(self):                 # each class is free to implement it in their own way (tv  remote, ac remote, etc)\n",
    "        print('powered on')\n",
    "\n",
    "    def up_key(self):\n",
    "        print('temperature increased')\n",
    "\n",
    "r = AcRemote()\n",
    "r.power_on()\n",
    "r.up_key()\n"
   ],
   "id": "8348da8da7c82628",
   "outputs": [
    {
     "name": "stdout",
     "output_type": "stream",
     "text": [
      "powered on\n",
      "temperature increased\n"
     ]
    }
   ],
   "execution_count": 31
  },
  {
   "metadata": {
    "ExecuteTime": {
     "end_time": "2025-06-16T16:38:48.443628Z",
     "start_time": "2025-06-16T16:38:48.417850Z"
    }
   },
   "cell_type": "code",
   "source": [
    "\n",
    "# different ways to view attributes and methods of an object\n",
    "\n",
    "print(television.__dict__)      # to view the attributes of the instance\n",
    "print(Television.__dict__)\n",
    "\n",
    "print(dir(television))\n",
    "print(dir(Television))\n",
    "\n",
    "print(help(television))\n",
    "print(help(Television))         # to view the methods defined in the class\n",
    "\n",
    "import inspect\n",
    "inspect.getmembers(r)\n"
   ],
   "id": "f8bc5e61e4b9e53",
   "outputs": [
    {
     "name": "stdout",
     "output_type": "stream",
     "text": [
      "{'brand': 'samsung', '_screen_size': 56, '_Television__price': 50000, 'type': 'Qled', '_release_year': '2025'}\n",
      "{'__module__': '__main__', '__init__': <function Television.__init__ at 0x000002A4C80CCCA0>, 'set_price': <function Television.set_price at 0x000002A4C80CCEE0>, 'get_price': <function Television.get_price at 0x000002A4C80CD990>, '__dict__': <attribute '__dict__' of 'Television' objects>, '__weakref__': <attribute '__weakref__' of 'Television' objects>, '__doc__': None}\n",
      "['_Television__price', '__class__', '__delattr__', '__dict__', '__dir__', '__doc__', '__eq__', '__format__', '__ge__', '__getattribute__', '__gt__', '__hash__', '__init__', '__init_subclass__', '__le__', '__lt__', '__module__', '__ne__', '__new__', '__reduce__', '__reduce_ex__', '__repr__', '__setattr__', '__sizeof__', '__str__', '__subclasshook__', '__weakref__', '_release_year', '_screen_size', 'brand', 'get_price', 'set_price', 'type']\n",
      "['__class__', '__delattr__', '__dict__', '__dir__', '__doc__', '__eq__', '__format__', '__ge__', '__getattribute__', '__gt__', '__hash__', '__init__', '__init_subclass__', '__le__', '__lt__', '__module__', '__ne__', '__new__', '__reduce__', '__reduce_ex__', '__repr__', '__setattr__', '__sizeof__', '__str__', '__subclasshook__', '__weakref__', 'get_price', 'set_price']\n",
      "Help on Television in module __main__ object:\n",
      "\n",
      "class Television(builtins.object)\n",
      " |  Television(brand, screen_size, price)\n",
      " |  \n",
      " |  Methods defined here:\n",
      " |  \n",
      " |  __init__(self, brand, screen_size, price)\n",
      " |      Initialize self.  See help(type(self)) for accurate signature.\n",
      " |  \n",
      " |  get_price(self)\n",
      " |  \n",
      " |  set_price(self, price)\n",
      " |  \n",
      " |  ----------------------------------------------------------------------\n",
      " |  Data descriptors defined here:\n",
      " |  \n",
      " |  __dict__\n",
      " |      dictionary for instance variables (if defined)\n",
      " |  \n",
      " |  __weakref__\n",
      " |      list of weak references to the object (if defined)\n",
      "\n",
      "None\n",
      "Help on class Television in module __main__:\n",
      "\n",
      "class Television(builtins.object)\n",
      " |  Television(brand, screen_size, price)\n",
      " |  \n",
      " |  Methods defined here:\n",
      " |  \n",
      " |  __init__(self, brand, screen_size, price)\n",
      " |      Initialize self.  See help(type(self)) for accurate signature.\n",
      " |  \n",
      " |  get_price(self)\n",
      " |  \n",
      " |  set_price(self, price)\n",
      " |  \n",
      " |  ----------------------------------------------------------------------\n",
      " |  Data descriptors defined here:\n",
      " |  \n",
      " |  __dict__\n",
      " |      dictionary for instance variables (if defined)\n",
      " |  \n",
      " |  __weakref__\n",
      " |      list of weak references to the object (if defined)\n",
      "\n",
      "None\n"
     ]
    },
    {
     "data": {
      "text/plain": [
       "[('__abstractmethods__', frozenset()),\n",
       " ('__class__', __main__.AcRemote),\n",
       " ('__delattr__',\n",
       "  <method-wrapper '__delattr__' of AcRemote object at 0x000002A4C80DF160>),\n",
       " ('__dict__', {}),\n",
       " ('__dir__', <function AcRemote.__dir__()>),\n",
       " ('__doc__', None),\n",
       " ('__eq__',\n",
       "  <method-wrapper '__eq__' of AcRemote object at 0x000002A4C80DF160>),\n",
       " ('__format__', <function AcRemote.__format__(format_spec, /)>),\n",
       " ('__ge__',\n",
       "  <method-wrapper '__ge__' of AcRemote object at 0x000002A4C80DF160>),\n",
       " ('__getattribute__',\n",
       "  <method-wrapper '__getattribute__' of AcRemote object at 0x000002A4C80DF160>),\n",
       " ('__gt__',\n",
       "  <method-wrapper '__gt__' of AcRemote object at 0x000002A4C80DF160>),\n",
       " ('__hash__',\n",
       "  <method-wrapper '__hash__' of AcRemote object at 0x000002A4C80DF160>),\n",
       " ('__init__',\n",
       "  <method-wrapper '__init__' of AcRemote object at 0x000002A4C80DF160>),\n",
       " ('__init_subclass__', <function AcRemote.__init_subclass__>),\n",
       " ('__le__',\n",
       "  <method-wrapper '__le__' of AcRemote object at 0x000002A4C80DF160>),\n",
       " ('__lt__',\n",
       "  <method-wrapper '__lt__' of AcRemote object at 0x000002A4C80DF160>),\n",
       " ('__module__', '__main__'),\n",
       " ('__ne__',\n",
       "  <method-wrapper '__ne__' of AcRemote object at 0x000002A4C80DF160>),\n",
       " ('__new__', <function object.__new__(*args, **kwargs)>),\n",
       " ('__reduce__', <function AcRemote.__reduce__()>),\n",
       " ('__reduce_ex__', <function AcRemote.__reduce_ex__(protocol, /)>),\n",
       " ('__repr__',\n",
       "  <method-wrapper '__repr__' of AcRemote object at 0x000002A4C80DF160>),\n",
       " ('__setattr__',\n",
       "  <method-wrapper '__setattr__' of AcRemote object at 0x000002A4C80DF160>),\n",
       " ('__sizeof__', <function AcRemote.__sizeof__()>),\n",
       " ('__slots__', ()),\n",
       " ('__str__',\n",
       "  <method-wrapper '__str__' of AcRemote object at 0x000002A4C80DF160>),\n",
       " ('__subclasshook__', <function AcRemote.__subclasshook__>),\n",
       " ('__weakref__', None),\n",
       " ('_abc_impl', <_abc._abc_data at 0x2a4c5987700>),\n",
       " ('power_on',\n",
       "  <bound method AcRemote.power_on of <__main__.AcRemote object at 0x000002A4C80DF160>>),\n",
       " ('up_key',\n",
       "  <bound method AcRemote.up_key of <__main__.AcRemote object at 0x000002A4C80DF160>>)]"
      ]
     },
     "execution_count": 36,
     "metadata": {},
     "output_type": "execute_result"
    }
   ],
   "execution_count": 36
  }
 ],
 "metadata": {
  "kernelspec": {
   "display_name": "Python 3",
   "language": "python",
   "name": "python3"
  },
  "language_info": {
   "codemirror_mode": {
    "name": "ipython",
    "version": 2
   },
   "file_extension": ".py",
   "mimetype": "text/x-python",
   "name": "python",
   "nbconvert_exporter": "python",
   "pygments_lexer": "ipython2",
   "version": "2.7.6"
  }
 },
 "nbformat": 4,
 "nbformat_minor": 5
}
