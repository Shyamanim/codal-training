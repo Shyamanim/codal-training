{
 "cells": [
  {
   "metadata": {},
   "cell_type": "markdown",
   "source": "Instance methods:",
   "id": "60f5cae1233e460d"
  },
  {
   "cell_type": "code",
   "id": "initial_id",
   "metadata": {
    "collapsed": true,
    "ExecuteTime": {
     "end_time": "2025-06-17T04:54:52.729266Z",
     "start_time": "2025-06-17T04:54:52.706947Z"
    }
   },
   "source": [
    " # has self as the first argument\n",
    "class MyClass:\n",
    "    def __init__(self, value):\n",
    "        self.value = value\n",
    "\n",
    "    def get_value(self):\n",
    "        return self.value\n",
    "\n",
    "obj = MyClass(10)\n",
    "\n",
    "print(obj.get_value())"
   ],
   "outputs": [
    {
     "name": "stdout",
     "output_type": "stream",
     "text": [
      "10\n"
     ]
    }
   ],
   "execution_count": 2
  },
  {
   "metadata": {},
   "cell_type": "markdown",
   "source": "Static methods:",
   "id": "285b24d70b4199a3"
  },
  {
   "metadata": {
    "ExecuteTime": {
     "end_time": "2025-06-17T04:59:37.474780Z",
     "start_time": "2025-06-17T04:59:37.451575Z"
    }
   },
   "cell_type": "code",
   "source": [
    "# these do not receive an implicit first argument\n",
    "# generally used to create utility functions\n",
    "\n",
    "class Calculator:\n",
    "\n",
    "    @staticmethod\n",
    "    def get_prod(x, y):\n",
    "        return x*y\n",
    "\n",
    "obj = Calculator()\n",
    "print(obj.get_prod(20, 30))"
   ],
   "id": "a6b6b52d434cb4db",
   "outputs": [
    {
     "name": "stdout",
     "output_type": "stream",
     "text": [
      "600\n"
     ]
    }
   ],
   "execution_count": 3
  },
  {
   "metadata": {},
   "cell_type": "markdown",
   "source": "Class methods:",
   "id": "84bc504891f3d60e"
  },
  {
   "metadata": {
    "ExecuteTime": {
     "end_time": "2025-06-17T06:21:44.959692Z",
     "start_time": "2025-06-17T06:21:44.945686Z"
    }
   },
   "cell_type": "code",
   "source": [
    "class Count:\n",
    "    count = 0\n",
    "\n",
    "    def __init__(self):\n",
    "        self.increment()\n",
    "\n",
    "    @classmethod\n",
    "    def increment(cls):      # has cls as the first argument\n",
    "        cls.count += 1\n",
    "\n",
    "a = Count()\n",
    "b = Count()\n",
    "print(a.count)\n",
    "a.increment()\n",
    "print(Count.count)"
   ],
   "id": "69175e8f21c0bd16",
   "outputs": [
    {
     "name": "stdout",
     "output_type": "stream",
     "text": [
      "2\n",
      "3\n"
     ]
    }
   ],
   "execution_count": 6
  },
  {
   "metadata": {
    "ExecuteTime": {
     "end_time": "2025-06-19T11:04:22.757234Z",
     "start_time": "2025-06-19T11:04:22.739238Z"
    }
   },
   "cell_type": "code",
   "source": [
    "# class method for constructors\n",
    "class Date:\n",
    "    def __init__(self, year, month, day):\n",
    "        self.year = year\n",
    "        self.month = month\n",
    "        self.day = day\n",
    "\n",
    "    @classmethod\n",
    "    def from_string(cls, date_string):\n",
    "        year, month, day = map(int, date_string.split('-'))\n",
    "\n",
    "    # calling a static method from within a class method using cls\n",
    "        print(cls.from_time(\"22:10\"))\n",
    "        return cls(year, month, day)\n",
    "\n",
    "    @staticmethod\n",
    "    def from_time(time_string):\n",
    "        hr,min = map(int, time_string.split(':'))\n",
    "        return hr\n",
    "\n",
    "Date.from_string(\"10-11-25\")\n"
   ],
   "id": "7e4ed95677bf8f6a",
   "outputs": [
    {
     "name": "stdout",
     "output_type": "stream",
     "text": [
      "22\n"
     ]
    },
    {
     "data": {
      "text/plain": [
       "<__main__.Date at 0x1c45a3d6110>"
      ]
     },
     "execution_count": 7,
     "metadata": {},
     "output_type": "execute_result"
    }
   ],
   "execution_count": 7
  },
  {
   "metadata": {},
   "cell_type": "code",
   "outputs": [],
   "execution_count": null,
   "source": "",
   "id": "89d31486f08e18b5"
  }
 ],
 "metadata": {
  "kernelspec": {
   "display_name": "Python 3",
   "language": "python",
   "name": "python3"
  },
  "language_info": {
   "codemirror_mode": {
    "name": "ipython",
    "version": 2
   },
   "file_extension": ".py",
   "mimetype": "text/x-python",
   "name": "python",
   "nbconvert_exporter": "python",
   "pygments_lexer": "ipython2",
   "version": "2.7.6"
  }
 },
 "nbformat": 4,
 "nbformat_minor": 5
}
