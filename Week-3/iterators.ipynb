{
 "cells": [
  {
   "cell_type": "code",
   "execution_count": null,
   "id": "initial_id",
   "metadata": {
    "collapsed": true
   },
   "outputs": [],
   "source": [
    "#iterator is an object that contains a countable number of values\n",
    "#must implement __iter__() and __next__()"
   ]
  },
  {
   "metadata": {
    "ExecuteTime": {
     "end_time": "2025-06-19T07:26:45.044731Z",
     "start_time": "2025-06-19T07:26:45.027842Z"
    }
   },
   "cell_type": "code",
   "source": [
    "mytuple = (\"a\", \"b\", \"c\")\n",
    "myit = iter(mytuple)\n",
    "\n",
    "print(next(myit))\n",
    "print(type(next(myit)))"
   ],
   "id": "fc185925fd87fafd",
   "outputs": [
    {
     "name": "stdout",
     "output_type": "stream",
     "text": [
      "a\n",
      "<class 'str'>\n"
     ]
    }
   ],
   "execution_count": 4
  },
  {
   "metadata": {
    "ExecuteTime": {
     "end_time": "2025-06-19T06:56:14.178017Z",
     "start_time": "2025-06-19T06:56:14.151016Z"
    }
   },
   "cell_type": "code",
   "source": [
    "class Even:\n",
    "    def __iter__(self):\n",
    "        self.n = 2\n",
    "        return self        # must return the iterator object itself\n",
    "\n",
    "    def __next__(self):\n",
    "        x = self.n\n",
    "        self.n += 2\n",
    "        return x\n",
    "\n",
    "\n",
    "even = Even()\n",
    "it = iter(even)\n",
    "\n",
    "print(next(it))\n",
    "print(next(it))\n",
    "print(next(it))\n"
   ],
   "id": "58bd2d1cbed2b8f6",
   "outputs": [
    {
     "name": "stdout",
     "output_type": "stream",
     "text": [
      "2\n",
      "4\n",
      "6\n"
     ]
    }
   ],
   "execution_count": 1
  },
  {
   "metadata": {
    "ExecuteTime": {
     "end_time": "2025-06-19T07:43:06.281630Z",
     "start_time": "2025-06-19T07:43:06.267628Z"
    }
   },
   "cell_type": "code",
   "source": [
    "li = ['a', 'b', 'c']\n",
    "it = iter(li)\n",
    "\n",
    "while True:\n",
    "    try:\n",
    "        print(next(it))\n",
    "    except StopIteration:\n",
    "        print(\"End of iteration\")\n",
    "        break"
   ],
   "id": "529e5d3f4d20d025",
   "outputs": [
    {
     "name": "stdout",
     "output_type": "stream",
     "text": [
      "a\n",
      "b\n",
      "c\n",
      "End of iteration\n"
     ]
    }
   ],
   "execution_count": 5
  },
  {
   "metadata": {},
   "cell_type": "code",
   "outputs": [],
   "execution_count": null,
   "source": "",
   "id": "7e1c9d5b8a0ccc7b"
  }
 ],
 "metadata": {
  "kernelspec": {
   "display_name": "Python 3",
   "language": "python",
   "name": "python3"
  },
  "language_info": {
   "codemirror_mode": {
    "name": "ipython",
    "version": 2
   },
   "file_extension": ".py",
   "mimetype": "text/x-python",
   "name": "python",
   "nbconvert_exporter": "python",
   "pygments_lexer": "ipython2",
   "version": "2.7.6"
  }
 },
 "nbformat": 4,
 "nbformat_minor": 5
}
