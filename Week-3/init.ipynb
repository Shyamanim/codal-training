{
 "cells": [
  {
   "cell_type": "code",
   "id": "initial_id",
   "metadata": {
    "collapsed": true,
    "ExecuteTime": {
     "end_time": "2025-06-17T06:25:34.753766Z",
     "start_time": "2025-06-17T06:25:34.737101Z"
    }
   },
   "source": [
    "# obj = MyClass(args)\n",
    "#\n",
    "# internally,\n",
    "#\n",
    "# obj = MyClass.__new__(MyClass)\n",
    "# MyClass.__init__(obj, args)\n",
    "\n",
    "# using new to create custom object\n",
    "class CustomObject:\n",
    "    def __new__(cls, value):\n",
    "\n",
    "        instance = super().__new__(cls) # Creating new instance\n",
    "\n",
    "        instance.value = value + 10 # Attaching attribute during creation and modifying its value\n",
    "        return instance\n",
    "\n",
    "obj1 = CustomObject(10)\n",
    "obj2 = CustomObject(20)\n",
    "\n",
    "print(obj1.value)\n",
    "print(obj2.value)\n",
    "\n"
   ],
   "outputs": [
    {
     "name": "stdout",
     "output_type": "stream",
     "text": [
      "20\n",
      "30\n"
     ]
    }
   ],
   "execution_count": 1
  }
 ],
 "metadata": {
  "kernelspec": {
   "display_name": "Python 3",
   "language": "python",
   "name": "python3"
  },
  "language_info": {
   "codemirror_mode": {
    "name": "ipython",
    "version": 2
   },
   "file_extension": ".py",
   "mimetype": "text/x-python",
   "name": "python",
   "nbconvert_exporter": "python",
   "pygments_lexer": "ipython2",
   "version": "2.7.6"
  }
 },
 "nbformat": 4,
 "nbformat_minor": 5
}
