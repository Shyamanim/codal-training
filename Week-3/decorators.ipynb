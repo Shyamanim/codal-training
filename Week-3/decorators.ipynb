{
 "cells": [
  {
   "metadata": {},
   "cell_type": "markdown",
   "source": "Decorators are functions which provide us with a way to modify or extend the behavior of functions or methods, without changing their actual code.",
   "id": "f7ad1c4f2d7abb2a"
  },
  {
   "metadata": {},
   "cell_type": "markdown",
   "source": "Typed of decorators:",
   "id": "e03191cfa000ea92"
  },
  {
   "metadata": {
    "ExecuteTime": {
     "end_time": "2025-06-19T10:33:02.351828Z",
     "start_time": "2025-06-19T10:33:02.328532Z"
    }
   },
   "cell_type": "code",
   "source": [
    "# simple decorator (function decorator):\n",
    "\n",
    "def my_decorator(normal_func):\n",
    "    def wrapper():\n",
    "        print(\"Before\")\n",
    "        normal_func()\n",
    "        print(\"After\")\n",
    "    return wrapper\n",
    "\n",
    "@my_decorator          # same as greet  = my_decorator(greet)\n",
    "def greet():\n",
    "    print(\"Hello\")\n",
    "\n",
    "greet()\n"
   ],
   "id": "aeafe15bf225b207",
   "outputs": [
    {
     "name": "stdout",
     "output_type": "stream",
     "text": [
      "Before\n",
      "Hello\n",
      "After\n"
     ]
    }
   ],
   "execution_count": 42
  },
  {
   "metadata": {
    "ExecuteTime": {
     "end_time": "2025-06-19T10:33:02.301587300Z",
     "start_time": "2025-06-17T03:38:07.768930Z"
    }
   },
   "cell_type": "code",
   "source": [
    "# decorator with arguments:\n",
    "\n",
    "def deco(fun):\n",
    "    def wrapper(*args, **kwargs):\n",
    "        print(\"Before\")\n",
    "        fun(*args, **kwargs)\n",
    "        print(\"After\")\n",
    "    return wrapper\n",
    "\n",
    "@deco\n",
    "def my_fun(*args, **kwargs):\n",
    "    print(args, kwargs)\n",
    "\n",
    "my_fun(1,2,3,a=1,b=2,c=3)\n",
    "\n",
    "#  method decorators:\n",
    "\n",
    "class MyClass:\n",
    "    @deco\n",
    "    def func(self,*args, **kwargs):  # self can be included in *args\n",
    "        print(args, kwargs)\n",
    "\n",
    "c = MyClass()\n",
    "c.func(4,5,d=4)"
   ],
   "id": "eb076b1562fce493",
   "outputs": [
    {
     "name": "stdout",
     "output_type": "stream",
     "text": [
      "Before\n",
      "(1, 2, 3) {'a': 1, 'b': 2, 'c': 3}\n",
      "After\n",
      "Before\n",
      "(4, 5) {'d': 4}\n",
      "After\n"
     ]
    }
   ],
   "execution_count": 29
  },
  {
   "cell_type": "code",
   "id": "initial_id",
   "metadata": {
    "collapsed": true,
    "ExecuteTime": {
     "end_time": "2025-06-19T10:33:02.303585400Z",
     "start_time": "2025-06-17T03:38:07.816923Z"
    }
   },
   "source": [
    "# class decorators:\n",
    "\n",
    "def func(cls):\n",
    "    cls.class_name = cls.__name__    # adds a new attribute to the class\n",
    "    return cls\n",
    "\n",
    "@func\n",
    "class MyClass:\n",
    "    pass\n",
    "\n",
    "print(MyClass.class_name)\n"
   ],
   "outputs": [
    {
     "name": "stdout",
     "output_type": "stream",
     "text": [
      "MyClass\n"
     ]
    }
   ],
   "execution_count": 30
  },
  {
   "metadata": {
    "ExecuteTime": {
     "end_time": "2025-06-19T10:33:02.318875500Z",
     "start_time": "2025-06-17T03:38:07.863924Z"
    }
   },
   "cell_type": "code",
   "source": [
    "# default decorators:\n",
    "\n",
    "# @staticmethod: defines a method that doesnt operate on an instance of class\n",
    "# @classmethod: defines a method that operates on the class itself (uses cls)\n",
    "# @property: defines a method as a property, which allows us to access it like an attribute"
   ],
   "id": "e72bf70ef5fca84c",
   "outputs": [],
   "execution_count": 31
  },
  {
   "metadata": {
    "ExecuteTime": {
     "end_time": "2025-06-19T10:33:02.319873700Z",
     "start_time": "2025-06-17T03:38:07.895924Z"
    }
   },
   "cell_type": "code",
   "source": [
    "# chaining decorators:\n",
    "\n",
    "def decor1(func):\n",
    "    def inner():\n",
    "        x = func()\n",
    "        return x * x\n",
    "    return inner\n",
    "\n",
    "def decor(func):\n",
    "    def inner():\n",
    "        x = func()\n",
    "        return 4 * x\n",
    "    return inner\n",
    "\n",
    "@decor1\n",
    "@decor\n",
    "def num():\n",
    "    return 10\n",
    "\n",
    "@decor\n",
    "@decor1\n",
    "def num2():\n",
    "    return 10\n",
    "\n",
    "print(num())\n",
    "print(num2())"
   ],
   "id": "9a3a974ab48e2671",
   "outputs": [
    {
     "name": "stdout",
     "output_type": "stream",
     "text": [
      "1600\n",
      "400\n"
     ]
    }
   ],
   "execution_count": 32
  },
  {
   "metadata": {
    "ExecuteTime": {
     "end_time": "2025-06-19T10:33:02.328532300Z",
     "start_time": "2025-06-19T06:54:21.547354Z"
    }
   },
   "cell_type": "code",
   "source": [
    "# more examples:\n",
    "import time\n",
    "\n",
    "def timer(func):\n",
    "    def wrapper():\n",
    "        start = time.time()\n",
    "        func()\n",
    "        print(\"Time taken:\", time.time() - start)\n",
    "    return wrapper\n",
    "\n",
    "@timer\n",
    "def work():\n",
    "    for _ in range(10**6):\n",
    "        pass\n",
    "\n",
    "work()"
   ],
   "id": "53e41b63c15e5165",
   "outputs": [
    {
     "name": "stdout",
     "output_type": "stream",
     "text": [
      "Time taken: 0.015996456146240234\n"
     ]
    }
   ],
   "execution_count": 9
  },
  {
   "metadata": {},
   "cell_type": "code",
   "outputs": [
    {
     "name": "stdout",
     "output_type": "stream",
     "text": [
      "Logging: my_func called\n",
      "Doing work\n"
     ]
    }
   ],
   "execution_count": 7,
   "source": [
    "def logger(func):\n",
    "    def wrapper():\n",
    "        print(f\"Logging: {func.__name__} called\")\n",
    "        return func()\n",
    "    return wrapper\n",
    "\n",
    "@logger\n",
    "def my_func():\n",
    "    print(\"Doing work\")\n",
    "\n",
    "\n",
    "my_func()"
   ],
   "id": "e5dc14b41de6497a"
  },
  {
   "metadata": {
    "ExecuteTime": {
     "end_time": "2025-06-19T10:33:02.330706200Z",
     "start_time": "2025-06-19T09:53:09.317558Z"
    }
   },
   "cell_type": "code",
   "source": [
    "# passing arguments to the decorator itself instead of function\n",
    "def decorator(mode):\n",
    "    def main_decorator(func):  #used to wrap\n",
    "        def wrapper(*args, **kwargs):\n",
    "            result = func(*args, **kwargs)\n",
    "            if mode == \"square\":\n",
    "                return result **2\n",
    "            elif mode == \"multiply\":\n",
    "                return result * 10\n",
    "            else:\n",
    "                return result\n",
    "        return wrapper\n",
    "    return main_decorator\n",
    "@decorator(\"square\")\n",
    "def value1():\n",
    "    return 3\n",
    "\n",
    "@decorator(\"multiply\")\n",
    "def value2():\n",
    "    return 4\n",
    "\n",
    "print(value1())\n",
    "print(value2())"
   ],
   "id": "72834f5e1abe277c",
   "outputs": [
    {
     "name": "stdout",
     "output_type": "stream",
     "text": [
      "9\n",
      "40\n"
     ]
    }
   ],
   "execution_count": 40
  },
  {
   "metadata": {
    "ExecuteTime": {
     "end_time": "2025-06-19T10:33:02.331706600Z",
     "start_time": "2025-06-19T09:53:15.812580Z"
    }
   },
   "cell_type": "code",
   "source": [
    "def decorator(func):\n",
    "    def wrapper_square():\n",
    "        print(f\"Using square logic for {func.__name__}\")\n",
    "        return func() ** 2\n",
    "\n",
    "    def wrapper_multiplyby10():\n",
    "        print(f\"Using multiply by 10 logic for {func.__name__}\")\n",
    "        return func() * 10\n",
    "\n",
    "\n",
    "    if func.__name__ == \"one\":   # this requiers choose which wrapper to return\n",
    "        return wrapper_square\n",
    "    else:\n",
    "        return wrapper_multiplyby10\n",
    "\n",
    "@decorator\n",
    "def one():\n",
    "    return 3\n",
    "\n",
    "@decorator\n",
    "def two():\n",
    "    return 4\n",
    "\n",
    "print(one())\n",
    "print(two())\n"
   ],
   "id": "6f7ddafdef3598ab",
   "outputs": [
    {
     "name": "stdout",
     "output_type": "stream",
     "text": [
      "Using square logic for one\n",
      "9\n",
      "Using multiply by 10 logic for two\n",
      "40\n"
     ]
    }
   ],
   "execution_count": 41
  },
  {
   "metadata": {},
   "cell_type": "code",
   "outputs": [
    {
     "name": "stdout",
     "output_type": "stream",
     "text": [
      "Sum: 25\n"
     ]
    }
   ],
   "execution_count": 38,
   "source": [
    "#decorators with arguments:\n",
    "\n",
    "\n",
    "def decorator_func(x, y):\n",
    "\n",
    "    def Inner(func):\n",
    "\n",
    "        def wrapper(*args):\n",
    "            c = x+y\n",
    "            func(c)\n",
    "        return wrapper\n",
    "    return Inner\n",
    "\n",
    "\n",
    "# @decorator_func(10,15)\n",
    "# def my_fun(c):\n",
    "#     print(\"Sum:\", c)\n",
    "\n",
    "#or,\n",
    "my_fun = decorator_func(10, 15)(my_fun)\n",
    "\n",
    "my_fun()"
   ],
   "id": "6a2874a2da80f767"
  }
 ],
 "metadata": {
  "kernelspec": {
   "display_name": "Python 3",
   "language": "python",
   "name": "python3"
  },
  "language_info": {
   "codemirror_mode": {
    "name": "ipython",
    "version": 2
   },
   "file_extension": ".py",
   "mimetype": "text/x-python",
   "name": "python",
   "nbconvert_exporter": "python",
   "pygments_lexer": "ipython2",
   "version": "2.7.6"
  }
 },
 "nbformat": 4,
 "nbformat_minor": 5
}
