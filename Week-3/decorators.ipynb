{
 "cells": [
  {
   "metadata": {},
   "cell_type": "markdown",
   "source": "Decorators are functions which provide us with a way to modify or extend the behavior of functions or methods, without changing their actual code.",
   "id": "f7ad1c4f2d7abb2a"
  },
  {
   "metadata": {},
   "cell_type": "markdown",
   "source": "Typed of decorators:",
   "id": "e03191cfa000ea92"
  },
  {
   "metadata": {
    "ExecuteTime": {
     "end_time": "2025-06-17T03:38:07.750925Z",
     "start_time": "2025-06-17T03:38:07.730927Z"
    }
   },
   "cell_type": "code",
   "source": [
    "# simple decorator (function decorator):\n",
    "\n",
    "def my_decorator(normal_func):\n",
    "    def wrapper():\n",
    "        print(\"Before\")\n",
    "        normal_func()\n",
    "        print(\"After\")\n",
    "    return wrapper\n",
    "\n",
    "@my_decorator          # same as greet  = my_decorator(greet)\n",
    "def greet():\n",
    "    print(\"Hello\")\n",
    "\n",
    "greet()\n"
   ],
   "id": "aeafe15bf225b207",
   "outputs": [
    {
     "name": "stdout",
     "output_type": "stream",
     "text": [
      "Before\n",
      "Hello\n",
      "After\n"
     ]
    }
   ],
   "execution_count": 28
  },
  {
   "metadata": {
    "ExecuteTime": {
     "end_time": "2025-06-17T03:38:07.782951Z",
     "start_time": "2025-06-17T03:38:07.768930Z"
    }
   },
   "cell_type": "code",
   "source": [
    "# decorator with arguments:\n",
    "\n",
    "def deco(fun):\n",
    "    def wrapper(*args, **kwargs):\n",
    "        print(\"Before\")\n",
    "        fun(*args, **kwargs)\n",
    "        print(\"After\")\n",
    "    return wrapper\n",
    "\n",
    "@deco\n",
    "def my_fun(*args, **kwargs):\n",
    "    print(args, kwargs)\n",
    "\n",
    "my_fun(1,2,3,a=1,b=2,c=3)\n",
    "\n",
    "#  method decorators:\n",
    "\n",
    "class MyClass:\n",
    "    @deco\n",
    "    def func(self,*args, **kwargs):  # self can be included in *args\n",
    "        print(args, kwargs)\n",
    "\n",
    "c = MyClass()\n",
    "c.func(4,5,d=4)"
   ],
   "id": "eb076b1562fce493",
   "outputs": [
    {
     "name": "stdout",
     "output_type": "stream",
     "text": [
      "Before\n",
      "(1, 2, 3) {'a': 1, 'b': 2, 'c': 3}\n",
      "After\n",
      "Before\n",
      "(4, 5) {'d': 4}\n",
      "After\n"
     ]
    }
   ],
   "execution_count": 29
  },
  {
   "cell_type": "code",
   "id": "initial_id",
   "metadata": {
    "collapsed": true,
    "ExecuteTime": {
     "end_time": "2025-06-17T03:38:07.830926Z",
     "start_time": "2025-06-17T03:38:07.816923Z"
    }
   },
   "source": [
    "# class decorators:\n",
    "\n",
    "def func(cls):\n",
    "    cls.class_name = cls.__name__    # adds a new attribute to the class\n",
    "    return cls\n",
    "\n",
    "@func\n",
    "class MyClass:\n",
    "    pass\n",
    "\n",
    "print(MyClass.class_name)\n"
   ],
   "outputs": [
    {
     "name": "stdout",
     "output_type": "stream",
     "text": [
      "MyClass\n"
     ]
    }
   ],
   "execution_count": 30
  },
  {
   "metadata": {
    "ExecuteTime": {
     "end_time": "2025-06-17T03:38:07.878943Z",
     "start_time": "2025-06-17T03:38:07.863924Z"
    }
   },
   "cell_type": "code",
   "source": [
    "# default decorators:\n",
    "\n",
    "# @staticmethod: defines a method that doesnt operate on an instance of class\n",
    "# @classmethod: defines a method that operates on the class itself (uses cls)\n",
    "# @property: defines a method as a property, which allows us to access it like an attribute"
   ],
   "id": "e72bf70ef5fca84c",
   "outputs": [],
   "execution_count": 31
  },
  {
   "metadata": {
    "ExecuteTime": {
     "end_time": "2025-06-17T03:38:07.910925Z",
     "start_time": "2025-06-17T03:38:07.895924Z"
    }
   },
   "cell_type": "code",
   "source": [
    "# chaining decorators:\n",
    "\n",
    "def decor1(func):\n",
    "    def inner():\n",
    "        x = func()\n",
    "        return x * x\n",
    "    return inner\n",
    "\n",
    "def decor(func):\n",
    "    def inner():\n",
    "        x = func()\n",
    "        return 4 * x\n",
    "    return inner\n",
    "\n",
    "@decor1\n",
    "@decor\n",
    "def num():\n",
    "    return 10\n",
    "\n",
    "@decor\n",
    "@decor1\n",
    "def num2():\n",
    "    return 10\n",
    "\n",
    "print(num())\n",
    "print(num2())"
   ],
   "id": "9a3a974ab48e2671",
   "outputs": [
    {
     "name": "stdout",
     "output_type": "stream",
     "text": [
      "1600\n",
      "400\n"
     ]
    }
   ],
   "execution_count": 32
  }
 ],
 "metadata": {
  "kernelspec": {
   "display_name": "Python 3",
   "language": "python",
   "name": "python3"
  },
  "language_info": {
   "codemirror_mode": {
    "name": "ipython",
    "version": 2
   },
   "file_extension": ".py",
   "mimetype": "text/x-python",
   "name": "python",
   "nbconvert_exporter": "python",
   "pygments_lexer": "ipython2",
   "version": "2.7.6"
  }
 },
 "nbformat": 4,
 "nbformat_minor": 5
}
